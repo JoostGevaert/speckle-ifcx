{
 "cells": [
  {
   "cell_type": "code",
   "execution_count": null,
   "metadata": {},
   "outputs": [],
   "source": [
    "import json\n",
    "\n",
    "from specklepy.api.client import SpeckleClient\n",
    "from specklepy.core.api import operations\n",
    "from specklepy.transports.server import ServerTransport"
   ]
  },
  {
   "cell_type": "markdown",
   "metadata": {},
   "source": [
    "# Leapfrog Weka Hills Demo Model from Speckle to IFC 5"
   ]
  },
  {
   "cell_type": "code",
   "execution_count": null,
   "metadata": {},
   "outputs": [],
   "source": [
    "weka_hills_speckle_project_id = \"7a489ac0d4\"\n",
    "ifc5_geo_dict = {\"name\": \"Alluvium\", \"ifc5_ref\": \"Ne4ef1ea1101a484183bb8a716924702e\"}\n",
    "# ifc5_geo_dict = {\"name\": \"Siltstone\", \"ifc5_ref\": \"N4586ef982fd34faab3de532a7a43544d\"}\n",
    "# ifc5_geo_dict = {\"name\": \"Basement\", \"ifc5_ref\": \"N450a532f5e414d609856a8a50b6a94ad\"}"
   ]
  },
  {
   "cell_type": "code",
   "execution_count": null,
   "metadata": {},
   "outputs": [],
   "source": [
    "speckle_client = SpeckleClient(host=\"app.speckle.systems\")\n",
    "transport = ServerTransport(\n",
    "    stream_id=weka_hills_speckle_project_id, client=speckle_client\n",
    ")"
   ]
  },
  {
   "cell_type": "code",
   "execution_count": null,
   "metadata": {},
   "outputs": [],
   "source": [
    "weka_hills_speckle_models = speckle_client.model.get_models(\n",
    "    project_id=weka_hills_speckle_project_id\n",
    ")\n",
    "\n",
    "geology_models_w_versions = {}\n",
    "for model in weka_hills_speckle_models.items:\n",
    "    if \"geo/geology-model\" in model.name:\n",
    "        geological_unit = str(model.name).replace(\"geo/geology-model/\", \"\")\n",
    "        speckle_model = speckle_client.model.get_with_versions(\n",
    "            model_id=model.id,\n",
    "            project_id=weka_hills_speckle_project_id,\n",
    "        )\n",
    "        geology_models_w_versions[geological_unit] = speckle_model\n",
    "        print(f\"{geological_unit}: {model.id}\")"
   ]
  },
  {
   "cell_type": "code",
   "execution_count": null,
   "metadata": {},
   "outputs": [],
   "source": [
    "model_data = operations.receive(\n",
    "    geology_models_w_versions[ifc5_geo_dict[\"name\"].lower()]\n",
    "    .versions.items[0]\n",
    "    .referencedObject,\n",
    "    transport,\n",
    ")"
   ]
  },
  {
   "cell_type": "code",
   "execution_count": null,
   "metadata": {},
   "outputs": [],
   "source": [
    "speckle_faces = model_data.elements[0].elements[0].elements[0].elements[0].faces\n",
    "face_vertex_counts = []\n",
    "face_vertex_indices = []\n",
    "i = 0\n",
    "while i < len(speckle_faces):\n",
    "    vertex_count = speckle_faces[i]\n",
    "    face_vertex_counts.append(vertex_count)\n",
    "    face_vertex_indices.extend(speckle_faces[i + 1 : i + 1 + vertex_count])\n",
    "    i += 1 + vertex_count\n",
    "\n",
    "speckle_vertices = model_data.elements[0].elements[0].elements[0].elements[0].vertices\n",
    "points = [speckle_vertices[i : i + 3] for i in range(0, len(speckle_vertices), 3)]"
   ]
  },
  {
   "cell_type": "code",
   "execution_count": null,
   "metadata": {},
   "outputs": [],
   "source": [
    "ifc5_usdgeom = [\n",
    "    {\n",
    "        \"def\": \"over\",\n",
    "        \"name\": f\"{ifc5_geo_dict['ref']}_Body\",\n",
    "        \"attributes\": {\n",
    "            \"UsdGeom:Mesh\": {\n",
    "                # \"faceVertexCounts\": face_vertex_counts,\n",
    "                \"faceVertexIndices\": face_vertex_indices,\n",
    "                \"points\": points,\n",
    "            }\n",
    "        },\n",
    "    }\n",
    "]\n",
    "\n",
    "with open(\n",
    "    f\"WekaHills_GeologyModel_{ifc5_geo_dict['name']}_UsdGeom.ifcx\", \"w\"\n",
    ") as json_file:\n",
    "    json.dump(ifc5_usdgeom, json_file)"
   ]
  },
  {
   "cell_type": "markdown",
   "metadata": {},
   "source": [
    "For testing purposes, one can create an `.obj` file from the Speckle geometry as follows:"
   ]
  },
  {
   "cell_type": "code",
   "execution_count": null,
   "metadata": {},
   "outputs": [],
   "source": [
    "with open(f\"{geological_unit}Mesh.obj\", \"w\") as obj_file:\n",
    "    for point in points:\n",
    "        obj_file.write(f\"v {point[0]} {point[1]} {point[2]}\\n\")\n",
    "    for i in range(0, len(face_vertex_indices), 3):\n",
    "        # OBJ uses 1-based indexing, so add 1 to the indices\n",
    "        obj_file.write(\n",
    "            f\"f {face_vertex_indices[i] + 1} {face_vertex_indices[i + 1] + 1} {face_vertex_indices[i + 2] + 1}\\n\"\n",
    "        )"
   ]
  }
 ],
 "metadata": {
  "kernelspec": {
   "display_name": ".venv",
   "language": "python",
   "name": "python3"
  },
  "language_info": {
   "codemirror_mode": {
    "name": "ipython",
    "version": 3
   },
   "file_extension": ".py",
   "mimetype": "text/x-python",
   "name": "python",
   "nbconvert_exporter": "python",
   "pygments_lexer": "ipython3",
   "version": "3.11.10"
  }
 },
 "nbformat": 4,
 "nbformat_minor": 2
}
